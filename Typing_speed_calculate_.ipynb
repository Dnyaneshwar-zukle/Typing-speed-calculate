{
  "nbformat": 4,
  "nbformat_minor": 0,
  "metadata": {
    "colab": {
      "provenance": [],
      "authorship_tag": "ABX9TyMC7ADy0EvLHXO9eKVmudnH",
      "include_colab_link": true
    },
    "kernelspec": {
      "name": "python3",
      "display_name": "Python 3"
    },
    "language_info": {
      "name": "python"
    }
  },
  "cells": [
    {
      "cell_type": "markdown",
      "metadata": {
        "id": "view-in-github",
        "colab_type": "text"
      },
      "source": [
        "<a href=\"https://colab.research.google.com/github/Dnyaneshwar-zukle/Typing-speed-calculate/blob/main/Typing_speed_calculate_.ipynb\" target=\"_parent\"><img src=\"https://colab.research.google.com/assets/colab-badge.svg\" alt=\"Open In Colab\"/></a>"
      ]
    },
    {
      "cell_type": "code",
      "execution_count": 4,
      "metadata": {
        "colab": {
          "base_uri": "https://localhost:8080/"
        },
        "id": "oUbpLYmZgtYX",
        "outputId": "63e31efb-45b9-47c6-d144-1da57db1ea70"
      },
      "outputs": [
        {
          "output_type": "stream",
          "name": "stdout",
          "text": [
            "1677345344.6845775\n",
            " ready to tesr : yes / No :yes\n",
            "***** typing speed *****\n",
            "Lorem Ipsum is simply dummy text of the printing and typesetting industry. Lorem Ipsum has been the industry's standard dummy text ever since the 1500s.\n",
            "\n",
            "\n",
            " enter : jnkcjdc\n",
            "Speed :  1 w/sec\n",
            "Error :  152\n",
            " ready to tesr : yes / No :no\n",
            "Thank You\n"
          ]
        }
      ],
      "source": [
        "from time import *\n",
        "import random as r\n",
        "\n",
        "print(time())\n",
        "\n",
        "def mistake(partest, usertest):\n",
        "    error = 0\n",
        "    for i in range(len(partest)):\n",
        "        try:\n",
        "            if partest[i] != usertest[i]:\n",
        "                error = error + 1\n",
        "        except:\n",
        "            error = error + 1\n",
        "    return error        \n",
        "\n",
        "\n",
        "def speed_time(time_s,time_e,userinput):\n",
        "    time_delay = time_e - time_s\n",
        "    time_R = round(time_delay,2)\n",
        "    speed = len(userinput)/ time_R\n",
        "    return round(speed)\n",
        "\n",
        "while True:\n",
        "  ck = input(\" ready to tesr : yes / No :\")\n",
        "  if ck == \"yes\":\n",
        "    test = [\"Lorem Ipsum is simply dummy text of the printing and typesetting industry. Lorem Ipsum has been the industry's standard dummy text ever since the 1500s.\",\n",
        "            \" I am website developer.\", \"welcome to dnyaneshwar world\"\n",
        "            ]\n",
        "    test1 = r.choice(test)\n",
        "    print(\"***** typing speed *****\")    \n",
        "    print(test1)\n",
        "    print()\n",
        "    print()\n",
        "    time_1 = time()\n",
        "    testinput = input(\" enter : \")\n",
        "    time_2 = time()\n",
        "    print('Speed : ',speed_time(time_1,time_2,testinput), \"w/sec\")\n",
        "    print(\"Error : \",mistake(test1, testinput))\n",
        "  elif ck == \"no\":\n",
        "   print(\"Thank You\")\n",
        "   break\n",
        "  else:\n",
        "    print(\"Worng\")\n",
        "\n",
        "\n",
        "\n"
      ]
    }
  ]
}