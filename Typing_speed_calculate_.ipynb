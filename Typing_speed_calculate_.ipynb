{
  "nbformat": 4,
  "nbformat_minor": 0,
  "metadata": {
    "colab": {
      "provenance": [],
      "authorship_tag": "ABX9TyOqYGvgfw230N25yRtzhxYH",
      "include_colab_link": true
    },
    "kernelspec": {
      "name": "python3",
      "display_name": "Python 3"
    },
    "language_info": {
      "name": "python"
    }
  },
  "cells": [
    {
      "cell_type": "markdown",
      "metadata": {
        "id": "view-in-github",
        "colab_type": "text"
      },
      "source": [
        "<a href=\"https://colab.research.google.com/github/Dnyaneshwar-zukle/Typing-speed-calculate/blob/main/Typing_speed_calculate_.ipynb\" target=\"_parent\"><img src=\"https://colab.research.google.com/assets/colab-badge.svg\" alt=\"Open In Colab\"/></a>"
      ]
    },
    {
      "cell_type": "code",
      "execution_count": 7,
      "metadata": {
        "colab": {
          "base_uri": "https://localhost:8080/"
        },
        "id": "oUbpLYmZgtYX",
        "outputId": "17987a09-a96c-46f6-fb81-f5ea1af4e539"
      },
      "outputs": [
        {
          "name": "stdout",
          "output_type": "stream",
          "text": [
            "1677345737.3736596\n",
            " ready to tesr : yes / No :yes\n",
            "***** typing speed *****\n",
            " I am website developer.\n",
            "\n",
            "\n",
            " enter : I am website developer\n",
            "Speed :  1 w/sec\n",
            "Error :  24\n",
            " ready to tesr : yes / No :no\n",
            "Thank You\n",
            "1677345782.0321305\n",
            " ready to tesr : yes / No :no\n"
          ]
        }
      ],
      "source": [
        "from time import *\n",
        "import random as r\n",
        "\n",
        "print(time())\n",
        "\n",
        "def mistake(partest, usertest):\n",
        "    error = 0\n",
        "    for i in range(len(partest)):\n",
        "        try:\n",
        "            if partest[i] != usertest[i]:\n",
        "                error = error + 1\n",
        "        except:\n",
        "            error = error + 1\n",
        "    return error        \n",
        "\n",
        "\n",
        "def speed_time(time_s,time_e,userinput):\n",
        "    time_delay = time_e - time_s\n",
        "    time_R = round(time_delay,2)\n",
        "    speed = len(userinput)/ time_R\n",
        "    return round(speed)\n",
        "if __name__ == '__main__':\n",
        "  while True:\n",
        "    ck = input(\" ready to tesr : yes / No :\")\n",
        "    if ck == \"yes\":\n",
        "      test = [\"Lorem Ipsum is simply dummy text of the printing and typesetting industry. Lorem Ipsum has been the industry's standard dummy text ever since the 1500s.\",\n",
        "              \" I am website developer.\", \"welcome to dnyaneshwar world\"\n",
        "              ]\n",
        "      test1 = r.choice(test)\n",
        "      print(\"***** typing speed *****\")    \n",
        "      print(test1)\n",
        "      print()\n",
        "      print()\n",
        "      time_1 = time()\n",
        "      testinput = input(\" enter : \")\n",
        "      time_2 = time()\n",
        "      print('Speed : ',speed_time(time_1,time_2,testinput), \"w/sec\")\n",
        "      print(\"Error : \",mistake(test1, testinput))\n",
        "    elif ck == \"no\":\n",
        "      print(\"Thank You\")\n",
        "      break\n",
        "    else:\n",
        "      print(\"Worng\")\n",
        "\n",
        "\n",
        "\n"
      ]
    }
  ]
}